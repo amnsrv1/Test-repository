{
 "cells": [
  {
   "cell_type": "markdown",
   "id": "b5841f05",
   "metadata": {},
   "source": [
    "# Data Science Tools Ecosystem "
   ]
  },
  {
   "cell_type": "markdown",
   "id": "2cffa08d",
   "metadata": {},
   "source": [
    "## In this notebook, Data Science Tools and Ecosystem are summarized.\n",
    "---------------------------------------------------------------------------------------------"
   ]
  },
  {
   "cell_type": "markdown",
   "id": "f90c5ccb",
   "metadata": {},
   "source": [
    "**Objectives:**\n",
    "\n",
    "- List popular programming languages used in Data Science  \n",
    "- Identify commonly used libraries for data manipulation, visualization, and machine learning  \n",
    "- Understand basic arithmetic expressions in Python  \n",
    "- Perform simple unit conversions in Python (e.g., minutes to hours)  \n",
    "- Apply basic operations and write simple Python expressions with comments\n"
   ]
  },
  {
   "cell_type": "markdown",
   "id": "2efe984d",
   "metadata": {},
   "source": [
    "## Some of the popular languages that Data Scientists use are:\n",
    "1) Python\n",
    "2) R\n",
    "3) Java\n",
    "4) MATLAB"
   ]
  },
  {
   "cell_type": "markdown",
   "id": "b45742aa",
   "metadata": {},
   "source": [
    "## Some of the commonly used libraries used by Data Scientists include:\n",
    "1) Numpy\n",
    "2) Matplotlib\n",
    "3) Pytorch\n",
    "4) Pandas"
   ]
  },
  {
   "cell_type": "markdown",
   "id": "f4afe100",
   "metadata": {},
   "source": [
    " | Data Science Tools |\n",
    "|---------------------|\n",
    "| Jupyter Notebook    |\n",
    "| RStudio             |\n",
    "| Apache Zeppelin     |"
   ]
  },
  {
   "cell_type": "markdown",
   "id": "cc996798",
   "metadata": {},
   "source": [
    "## Exercise 7 - Arithmetic Expressions in Python\n",
    "\n",
    "In this exercise, we will look at how Python evaluates arithmetic expressions such as addition, subtraction, multiplication, division, exponentiation, and modulus.\n",
    "\n",
    "### Below are a few examples of evaluating arithmetic expressions in Python.\n",
    "\n",
    "To add: a+b\n",
    "\n",
    "To subtract: a-b\n",
    "\n",
    "To multiply: a*b\n",
    "\n",
    "to divide: a/b"
   ]
  },
  {
   "cell_type": "code",
   "execution_count": 9,
   "id": "d83fdc6d",
   "metadata": {},
   "outputs": [
    {
     "name": "stdout",
     "output_type": "stream",
     "text": [
      "17\n"
     ]
    }
   ],
   "source": [
    "# This is a simple arithmetic expression to multiply then add integers\n",
    "multiply = (3 * 4) + 5\n",
    "print(multiply)"
   ]
  },
  {
   "cell_type": "code",
   "execution_count": 10,
   "id": "82dcf382",
   "metadata": {},
   "outputs": [
    {
     "name": "stdout",
     "output_type": "stream",
     "text": [
      "3.3333333333333335\n"
     ]
    }
   ],
   "source": [
    "# This will convert 200 minutes to hours by dividing by 60\n",
    "hours = 200/60\n",
    "print(hours)"
   ]
  },
  {
   "cell_type": "markdown",
   "id": "b0f54202",
   "metadata": {},
   "source": [
    "## Author\n",
    "\n",
    "Aman Srivastava"
   ]
  },
  {
   "cell_type": "code",
   "execution_count": null,
   "id": "23e4f02f",
   "metadata": {},
   "outputs": [],
   "source": []
  }
 ],
 "metadata": {
  "kernelspec": {
   "display_name": "Python 3 (ipykernel)",
   "language": "python",
   "name": "python3"
  },
  "language_info": {
   "codemirror_mode": {
    "name": "ipython",
    "version": 3
   },
   "file_extension": ".py",
   "mimetype": "text/x-python",
   "name": "python",
   "nbconvert_exporter": "python",
   "pygments_lexer": "ipython3",
   "version": "3.10.12"
  }
 },
 "nbformat": 4,
 "nbformat_minor": 5
}
